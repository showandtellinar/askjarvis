{
 "metadata": {
  "name": "",
  "signature": "sha256:3cf419b011c215c9c2d12cea7a97de8a02572818f9cf07142eac54e59485869a"
 },
 "nbformat": 3,
 "nbformat_minor": 0,
 "worksheets": [
  {
   "cells": [
    {
     "cell_type": "code",
     "collapsed": false,
     "input": [
      "import datetime, folium, random, numpy as np, pandas as pd\n",
      "from bs4 import BeautifulSoup"
     ],
     "language": "python",
     "metadata": {},
     "outputs": [],
     "prompt_number": 106
    },
    {
     "cell_type": "code",
     "collapsed": false,
     "input": [
      "def parse_kml(filename):\n",
      "    \"\"\"Parses a KML file into a Pandas DataFrame\"\"\"\n",
      "    with open(filename) as f:\n",
      "        rows = []\n",
      "        soup = BeautifulSoup(f)\n",
      "        for time, coords in zip(soup.findAll('when'), soup.findAll('gx:coord')):\n",
      "            timestamp = time.string\n",
      "            coords = coords.string.split(' ')[:2]\n",
      "            latitude = float(coords[0])\n",
      "            longitude = float(coords[1])\n",
      "            rows.append([timestamp, latitude, longitude])\n",
      "        df = pd.DataFrame(rows, columns=['Timestamp', 'Longitude', 'Latitude'])\n",
      "        df['Timestamp'] = pd.to_datetime(df.Timestamp.str.slice(0,23), format='%Y-%m-%dT%H:%M:%S.%f')\n",
      "        return df"
     ],
     "language": "python",
     "metadata": {},
     "outputs": [],
     "prompt_number": 107
    },
    {
     "cell_type": "code",
     "collapsed": false,
     "input": [
      "def clean_data(df):\n",
      "    \"\"\"Only look at data within 75 miles of the median latitude and longitude.\"\"\"\n",
      "    miles = 75.0\n",
      "    degrees = miles / 69.11\n",
      "    for col in ('Latitude', 'Longitude'):\n",
      "        median = df[col].median()\n",
      "        df = df[(df[col] >= median - degrees) & (df[col] <= median + degrees)]\n",
      "    return df"
     ],
     "language": "python",
     "metadata": {},
     "outputs": [],
     "prompt_number": 108
    },
    {
     "cell_type": "code",
     "collapsed": false,
     "input": [
      "def get_work_df(df):\n",
      "    \"\"\"Get all data between 10AM and 4PM Monday-Friday\"\"\"\n",
      "    return df[(df.hour >= 10) & (df.hour <= 16) & (df.day >= 0) & (df.day <= 4)]"
     ],
     "language": "python",
     "metadata": {},
     "outputs": [],
     "prompt_number": 109
    },
    {
     "cell_type": "code",
     "collapsed": false,
     "input": [
      "def get_home_df(df):\n",
      "    \"\"\"Get all data between 11PM and 5AM Monday-Thursday\"\"\"\n",
      "    return df[((df.hour >= 23) | (df.hour <= 5)) & (df.day >= 0) & (df.day <= 3)]"
     ],
     "language": "python",
     "metadata": {},
     "outputs": [],
     "prompt_number": 110
    },
    {
     "cell_type": "code",
     "collapsed": false,
     "input": [
      "def format_for_clustering(df):\n",
      "    \"\"\"Format data for the clustering algorithm\"\"\"\n",
      "    lng = df.Longitude\n",
      "    lat = df.Latitude\n",
      "    return np.array(zip(lng, lat))"
     ],
     "language": "python",
     "metadata": {},
     "outputs": [],
     "prompt_number": 111
    },
    {
     "cell_type": "code",
     "collapsed": false,
     "input": [
      "# Clustering algorithm from the internet\n",
      "def cluster_points(X, mu):\n",
      "    clusters  = {}\n",
      "    for x in X:\n",
      "        bestmukey = min([(i[0], np.linalg.norm(x-mu[i[0]])) \\\n",
      "                    for i in enumerate(mu)], key=lambda t:t[1])[0]\n",
      "        try:\n",
      "            clusters[bestmukey].append(x)\n",
      "        except KeyError:\n",
      "            clusters[bestmukey] = [x]\n",
      "    return clusters\n",
      " \n",
      "def reevaluate_centers(mu, clusters):\n",
      "    newmu = []\n",
      "    keys = sorted(clusters.keys())\n",
      "    for k in keys:\n",
      "        newmu.append(np.mean(clusters[k], axis = 0))\n",
      "    return newmu\n",
      " \n",
      "def has_converged(mu, oldmu):\n",
      "    return (set([tuple(a) for a in mu]) == set([tuple(a) for a in oldmu]))\n",
      "\n",
      "def find_centers(X, K):\n",
      "    # Initialize to K random centers\n",
      "    oldmu = random.sample(X, K)\n",
      "    mu = random.sample(X, K)\n",
      "    while not has_converged(mu, oldmu):\n",
      "        oldmu = mu\n",
      "        # Assign all points in X to clusters\n",
      "        clusters = cluster_points(X, mu)\n",
      "        # Reevaluate centers\n",
      "        mu = reevaluate_centers(oldmu, clusters)\n",
      "    return {'centers': mu, 'datapoints': clusters}"
     ],
     "language": "python",
     "metadata": {},
     "outputs": [],
     "prompt_number": 112
    },
    {
     "cell_type": "code",
     "collapsed": false,
     "input": [
      "def setup():\n",
      "    \"\"\"Set up the master DataFrame\"\"\"\n",
      "    df = parse_kml('brady_location.kml')\n",
      "    df = clean_data(df)\n",
      "    df['hour'] = df.Timestamp.map(lambda x: x.hour)\n",
      "    df['day'] = df.Timestamp.map(lambda x: x.dayofweek)\n",
      "    return df"
     ],
     "language": "python",
     "metadata": {},
     "outputs": [],
     "prompt_number": 113
    },
    {
     "cell_type": "code",
     "collapsed": false,
     "input": [
      "def get_location(df, location_func, n):\n",
      "    \"\"\"Use clustering to get a location for a certain time period\"\"\"\n",
      "    location_df = location_func(df)\n",
      "    location_data = format_for_clustering(location_df)\n",
      "    location_cluster = find_centers(location_data, n)\n",
      "    def f(x):\n",
      "        err1 = abs(x[0] - location_df.Longitude.median())\n",
      "        err2 = abs(x[1] - location_df.Latitude.median())\n",
      "        return err1 + err2\n",
      "    location_result = min(location_cluster['centers'], key=lambda x: f(x))\n",
      "    return location_result"
     ],
     "language": "python",
     "metadata": {},
     "outputs": [],
     "prompt_number": 114
    },
    {
     "cell_type": "code",
     "collapsed": false,
     "input": [
      "def display(initial_lat, initial_long, locations, map_path):\n",
      "    \"\"\"Use folium to display locations\"\"\"\n",
      "    fmap = folium.Map(location=[initial_lat, initial_long], zoom_start=13)\n",
      "    for location in locations:\n",
      "        fmap.simple_marker([location[0][1], location[0][0]], popup=location[1])\n",
      "    fmap.create_map(path=map_path)"
     ],
     "language": "python",
     "metadata": {},
     "outputs": [],
     "prompt_number": 127
    },
    {
     "cell_type": "code",
     "collapsed": false,
     "input": [
      "def main():\n",
      "    \"\"\"Main function\"\"\"\n",
      "    df = setup()\n",
      "    work_location = get_location(df, get_work_df, 6)\n",
      "    home_location = get_location(df, get_home_df, 6)\n",
      "    locations = [(work_location, 'Work'), (home_location, 'Home')]\n",
      "    display(df.Latitude.irow(0), df.Longitude.irow(0), locations, \"map.html\")\n",
      "    return locations"
     ],
     "language": "python",
     "metadata": {},
     "outputs": [],
     "prompt_number": 130
    },
    {
     "cell_type": "code",
     "collapsed": false,
     "input": [
      "main()"
     ],
     "language": "python",
     "metadata": {},
     "outputs": [
      {
       "metadata": {},
       "output_type": "pyout",
       "prompt_number": 131,
       "text": [
        "[(array([-78.47887209,  38.03109475]), 'Work'),\n",
        " (array([-78.44155014,  38.0312501 ]), 'Home')]"
       ]
      }
     ],
     "prompt_number": 131
    }
   ],
   "metadata": {}
  }
 ]
}